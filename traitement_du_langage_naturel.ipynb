{
 "cells": [
  {
   "cell_type": "markdown",
   "id": "b3e01755",
   "metadata": {},
   "source": [
    "## 📅 Jour 1 – Bases de données & textes\n",
    "### 🎯 Objectif du jour\n",
    "Charger un .csv textuel → L’insérer dans SQLite et PostgreSQL → Nettoyer le texte pour préparer le NLP.\n",
    "### 📌 1. Chargement CSV avec Pandas"
   ]
  },
  {
   "cell_type": "code",
   "execution_count": 42,
   "id": "1b89e06b",
   "metadata": {},
   "outputs": [
    {
     "name": "stdout",
     "output_type": "stream",
     "text": [
      "   id                                        commentaire  note\n",
      "0   1                      Le produit est super, merci !     5\n",
      "1   2                      Je ne recommande pas du tout.     1\n",
      "2   3     Livraison lente mais bon rapport qualité/prix.     3\n",
      "3   4             Service client inexistant, très déçue.     2\n",
      "4   5  Rapide, efficace et bien emballé. Je recommande !     5\n"
     ]
    }
   ],
   "source": [
    "import pandas as pd\n",
    "\n",
    "# Charger un dataset CSV simple\n",
    "df = pd.read_csv(\"avis.csv\")\n",
    "\n",
    "print(df.head())"
   ]
  },
  {
   "cell_type": "markdown",
   "id": "3a352ee9",
   "metadata": {},
   "source": [
    "### 📌 2. Nettoyage NLP de base"
   ]
  },
  {
   "cell_type": "code",
   "execution_count": 43,
   "id": "1f2636d6",
   "metadata": {},
   "outputs": [
    {
     "name": "stderr",
     "output_type": "stream",
     "text": [
      "[nltk_data] Downloading package stopwords to\n",
      "[nltk_data]     C:\\Users\\Aurélie\\AppData\\Roaming\\nltk_data...\n",
      "[nltk_data]   Package stopwords is already up-to-date!\n"
     ]
    },
    {
     "name": "stdout",
     "output_type": "stream",
     "text": [
      "                                         commentaire  \\\n",
      "0                      Le produit est super, merci !   \n",
      "1                      Je ne recommande pas du tout.   \n",
      "2     Livraison lente mais bon rapport qualité/prix.   \n",
      "3             Service client inexistant, très déçue.   \n",
      "4  Rapide, efficace et bien emballé. Je recommande !   \n",
      "\n",
      "                       commentaire_nettoyé  \n",
      "0                      produit super merci  \n",
      "1                          recommande tout  \n",
      "2  livraison lente bon rapport qualitéprix  \n",
      "3     service client inexistant très déçue  \n",
      "4  rapide efficace bien emballé recommande  \n"
     ]
    }
   ],
   "source": [
    "import re\n",
    "import nltk\n",
    "from nltk.corpus import stopwords\n",
    "\n",
    "nltk.download('stopwords')\n",
    "stop_fr = set(stopwords.words('french'))\n",
    "\n",
    "def nettoyer_texte(texte):\n",
    "    texte = texte.lower()  # minuscule\n",
    "    texte = re.sub(r'[^\\w\\s]', '', texte)  # retirer la ponctuation\n",
    "    texte = \" \".join(mot for mot in texte.split() if mot not in stop_fr)\n",
    "    return texte\n",
    "\n",
    "df[\"commentaire_nettoyé\"] = df[\"commentaire\"].apply(nettoyer_texte)\n",
    "print(df[[\"commentaire\", \"commentaire_nettoyé\"]])"
   ]
  },
  {
   "cell_type": "markdown",
   "id": "add032a1",
   "metadata": {},
   "source": [
    "### 📌 3. Insertion dans SQLite"
   ]
  },
  {
   "cell_type": "code",
   "execution_count": 44,
   "id": "82198756",
   "metadata": {},
   "outputs": [
    {
     "name": "stdout",
     "output_type": "stream",
     "text": [
      "   id                                        commentaire  note  \\\n",
      "0   1                      Le produit est super, merci !     5   \n",
      "1   2                      Je ne recommande pas du tout.     1   \n",
      "2   3     Livraison lente mais bon rapport qualité/prix.     3   \n",
      "3   4             Service client inexistant, très déçue.     2   \n",
      "4   5  Rapide, efficace et bien emballé. Je recommande !     5   \n",
      "\n",
      "                       commentaire_nettoyé  \n",
      "0                      produit super merci  \n",
      "1                          recommande tout  \n",
      "2  livraison lente bon rapport qualitéprix  \n",
      "3     service client inexistant très déçue  \n",
      "4  rapide efficace bien emballé recommande  \n"
     ]
    }
   ],
   "source": [
    "import sqlite3\n",
    "\n",
    "# Connexion + création\n",
    "conn_sqlite = sqlite3.connect(\"avis.db\")\n",
    "df.to_sql(\"avis\", conn_sqlite, if_exists=\"replace\", index=False)\n",
    "\n",
    "# Vérification\n",
    "print(pd.read_sql(\"SELECT * FROM avis\", conn_sqlite).head())"
   ]
  },
  {
   "cell_type": "markdown",
   "id": "e25b3076",
   "metadata": {},
   "source": [
    "## 🗓️ Jour 2 – Nettoyage intelligent & robustesse NLP\n",
    "### 🎯 Objectif du jour\n",
    "Apprendre à transformer un texte brut en texte exploitable pour l’IA\n",
    "→ tout en assurant compatibilité, performance et portabilité dans un contexte réel (cloud, PostgreSQL, Streamlit…)."
   ]
  },
  {
   "cell_type": "code",
   "execution_count": 45,
   "id": "da778c4d",
   "metadata": {},
   "outputs": [],
   "source": [
    "from sqlalchemy import create_engine\n",
    "\n",
    "# Remplace les champs ci-dessous selon ta base Supabase\n",
    "username = \"postgres\"\n",
    "password = \"nlp042025\"\n",
    "host = \"db.jfnicoblvyjogxdzfzds.supabase.co\"\n",
    "port = \"5432\"\n",
    "database = \"postgres\"\n",
    "\n",
    "# Chaîne SQLAlchemy\n",
    "engine = create_engine(f\"postgresql+psycopg2://{username}:{password}@{host}:{port}/{database}\")"
   ]
  },
  {
   "cell_type": "code",
   "execution_count": 46,
   "id": "cf03ce01",
   "metadata": {},
   "outputs": [
    {
     "name": "stdout",
     "output_type": "stream",
     "text": [
      "✅ Données insérées avec succès dans PostgreSQL.\n"
     ]
    }
   ],
   "source": [
    "# Insérer dans une table \"avis_clients\"\n",
    "df.to_sql(\"avis_clients\", engine, if_exists=\"replace\", index=False)\n",
    "\n",
    "print(\"✅ Données insérées avec succès dans PostgreSQL.\")"
   ]
  },
  {
   "cell_type": "code",
   "execution_count": 47,
   "id": "fb8eb005",
   "metadata": {},
   "outputs": [
    {
     "data": {
      "text/html": [
       "<div>\n",
       "<style scoped>\n",
       "    .dataframe tbody tr th:only-of-type {\n",
       "        vertical-align: middle;\n",
       "    }\n",
       "\n",
       "    .dataframe tbody tr th {\n",
       "        vertical-align: top;\n",
       "    }\n",
       "\n",
       "    .dataframe thead th {\n",
       "        text-align: right;\n",
       "    }\n",
       "</style>\n",
       "<table border=\"1\" class=\"dataframe\">\n",
       "  <thead>\n",
       "    <tr style=\"text-align: right;\">\n",
       "      <th></th>\n",
       "      <th>id</th>\n",
       "      <th>commentaire</th>\n",
       "      <th>note</th>\n",
       "      <th>commentaire_nettoyé</th>\n",
       "    </tr>\n",
       "  </thead>\n",
       "  <tbody>\n",
       "    <tr>\n",
       "      <th>0</th>\n",
       "      <td>1</td>\n",
       "      <td>Le produit est super, merci !</td>\n",
       "      <td>5</td>\n",
       "      <td>produit super merci</td>\n",
       "    </tr>\n",
       "    <tr>\n",
       "      <th>1</th>\n",
       "      <td>2</td>\n",
       "      <td>Je ne recommande pas du tout.</td>\n",
       "      <td>1</td>\n",
       "      <td>recommande tout</td>\n",
       "    </tr>\n",
       "    <tr>\n",
       "      <th>2</th>\n",
       "      <td>3</td>\n",
       "      <td>Livraison lente mais bon rapport qualité/prix.</td>\n",
       "      <td>3</td>\n",
       "      <td>livraison lente bon rapport qualitéprix</td>\n",
       "    </tr>\n",
       "    <tr>\n",
       "      <th>3</th>\n",
       "      <td>4</td>\n",
       "      <td>Service client inexistant, très déçue.</td>\n",
       "      <td>2</td>\n",
       "      <td>service client inexistant très déçue</td>\n",
       "    </tr>\n",
       "    <tr>\n",
       "      <th>4</th>\n",
       "      <td>5</td>\n",
       "      <td>Rapide, efficace et bien emballé. Je recommande !</td>\n",
       "      <td>5</td>\n",
       "      <td>rapide efficace bien emballé recommande</td>\n",
       "    </tr>\n",
       "  </tbody>\n",
       "</table>\n",
       "</div>"
      ],
      "text/plain": [
       "   id                                        commentaire  note  \\\n",
       "0   1                      Le produit est super, merci !     5   \n",
       "1   2                      Je ne recommande pas du tout.     1   \n",
       "2   3     Livraison lente mais bon rapport qualité/prix.     3   \n",
       "3   4             Service client inexistant, très déçue.     2   \n",
       "4   5  Rapide, efficace et bien emballé. Je recommande !     5   \n",
       "\n",
       "                       commentaire_nettoyé  \n",
       "0                      produit super merci  \n",
       "1                          recommande tout  \n",
       "2  livraison lente bon rapport qualitéprix  \n",
       "3     service client inexistant très déçue  \n",
       "4  rapide efficace bien emballé recommande  "
      ]
     },
     "execution_count": 47,
     "metadata": {},
     "output_type": "execute_result"
    }
   ],
   "source": [
    "# Lecture depuis PostgreSQL\n",
    "df_verif = pd.read_sql(\"SELECT * FROM avis_clients LIMIT 5\", engine)\n",
    "df_verif"
   ]
  },
  {
   "cell_type": "markdown",
   "id": "43ade140",
   "metadata": {},
   "source": [
    "#### 💬 Conclusion du jour\n",
    "Je suis capable de nettoyer et vectoriser du texte client en français avec des méthodes adaptées aux contraintes cloud et de préparation des jeux de données textuels pour stockage (PostgreSQL), classification et NLP avancé."
   ]
  },
  {
   "cell_type": "markdown",
   "id": "ae98c6d9",
   "metadata": {},
   "source": [
    "## 🗓️ Jour 3 – Classifier du texte (avis positifs/négatifs)\n",
    "### 🎯 Objectif : Créer un modèle IA (baseline) capable de prédire une étiquette à partir d’un texte\n",
    "### 📚 Cas pratique du jour :\n",
    "Nous allons entraîner un modèle supervisé à partir de ton CSV (avis.csv) pour prédire si un avis client est positif ou négatif, à partir du texte 🔍.\n",
    "\n",
    "### 🧪 Étape 1 - Charger les données nettoyées\n",
    "J'ai déjà cette colonne : commentaire_nettoyé et une étiquette : note (qu’on peut transformer en binaire 👍/👎)"
   ]
  },
  {
   "cell_type": "code",
   "execution_count": 48,
   "id": "513a2f38",
   "metadata": {},
   "outputs": [],
   "source": [
    "# Convertir la note en label binaire (avis positif ou non)\n",
    "df[\"positif\"] = df[\"note\"].apply(lambda x: 1 if x >= 4 else 0)"
   ]
  },
  {
   "cell_type": "markdown",
   "id": "03f5f4e6",
   "metadata": {},
   "source": [
    "### 🧪 Étape 2 - Vectorisation des textes"
   ]
  },
  {
   "cell_type": "code",
   "execution_count": 49,
   "id": "f0743594",
   "metadata": {},
   "outputs": [],
   "source": [
    "from sklearn.feature_extraction.text import TfidfVectorizer\n",
    "\n",
    "vect = TfidfVectorizer()\n",
    "X = vect.fit_transform(df[\"commentaire_nettoyé\"])\n",
    "y = df[\"positif\"]"
   ]
  },
  {
   "cell_type": "markdown",
   "id": "6885aa80",
   "metadata": {},
   "source": [
    "### 🧪 Étape 3 - Entraînement d’un modèle simple (LogisticRegression)"
   ]
  },
  {
   "cell_type": "code",
   "execution_count": 50,
   "id": "ed560cc0",
   "metadata": {},
   "outputs": [
    {
     "name": "stdout",
     "output_type": "stream",
     "text": [
      "              precision    recall  f1-score   support\n",
      "\n",
      "           0       0.00      0.00      0.00       1.0\n",
      "           1       0.00      0.00      0.00       0.0\n",
      "\n",
      "    accuracy                           0.00       1.0\n",
      "   macro avg       0.00      0.00      0.00       1.0\n",
      "weighted avg       0.00      0.00      0.00       1.0\n",
      "\n"
     ]
    },
    {
     "name": "stderr",
     "output_type": "stream",
     "text": [
      "C:\\Users\\Aurélie\\AppData\\Local\\Packages\\PythonSoftwareFoundation.Python.3.10_qbz5n2kfra8p0\\LocalCache\\local-packages\\Python310\\site-packages\\sklearn\\metrics\\_classification.py:1565: UndefinedMetricWarning: Precision is ill-defined and being set to 0.0 in labels with no predicted samples. Use `zero_division` parameter to control this behavior.\n",
      "  _warn_prf(average, modifier, f\"{metric.capitalize()} is\", len(result))\n",
      "C:\\Users\\Aurélie\\AppData\\Local\\Packages\\PythonSoftwareFoundation.Python.3.10_qbz5n2kfra8p0\\LocalCache\\local-packages\\Python310\\site-packages\\sklearn\\metrics\\_classification.py:1565: UndefinedMetricWarning: Recall is ill-defined and being set to 0.0 in labels with no true samples. Use `zero_division` parameter to control this behavior.\n",
      "  _warn_prf(average, modifier, f\"{metric.capitalize()} is\", len(result))\n",
      "C:\\Users\\Aurélie\\AppData\\Local\\Packages\\PythonSoftwareFoundation.Python.3.10_qbz5n2kfra8p0\\LocalCache\\local-packages\\Python310\\site-packages\\sklearn\\metrics\\_classification.py:1565: UndefinedMetricWarning: Precision is ill-defined and being set to 0.0 in labels with no predicted samples. Use `zero_division` parameter to control this behavior.\n",
      "  _warn_prf(average, modifier, f\"{metric.capitalize()} is\", len(result))\n",
      "C:\\Users\\Aurélie\\AppData\\Local\\Packages\\PythonSoftwareFoundation.Python.3.10_qbz5n2kfra8p0\\LocalCache\\local-packages\\Python310\\site-packages\\sklearn\\metrics\\_classification.py:1565: UndefinedMetricWarning: Recall is ill-defined and being set to 0.0 in labels with no true samples. Use `zero_division` parameter to control this behavior.\n",
      "  _warn_prf(average, modifier, f\"{metric.capitalize()} is\", len(result))\n",
      "C:\\Users\\Aurélie\\AppData\\Local\\Packages\\PythonSoftwareFoundation.Python.3.10_qbz5n2kfra8p0\\LocalCache\\local-packages\\Python310\\site-packages\\sklearn\\metrics\\_classification.py:1565: UndefinedMetricWarning: Precision is ill-defined and being set to 0.0 in labels with no predicted samples. Use `zero_division` parameter to control this behavior.\n",
      "  _warn_prf(average, modifier, f\"{metric.capitalize()} is\", len(result))\n",
      "C:\\Users\\Aurélie\\AppData\\Local\\Packages\\PythonSoftwareFoundation.Python.3.10_qbz5n2kfra8p0\\LocalCache\\local-packages\\Python310\\site-packages\\sklearn\\metrics\\_classification.py:1565: UndefinedMetricWarning: Recall is ill-defined and being set to 0.0 in labels with no true samples. Use `zero_division` parameter to control this behavior.\n",
      "  _warn_prf(average, modifier, f\"{metric.capitalize()} is\", len(result))\n"
     ]
    }
   ],
   "source": [
    "from sklearn.model_selection import train_test_split\n",
    "from sklearn.linear_model import LogisticRegression\n",
    "from sklearn.metrics import classification_report\n",
    "\n",
    "X_train, X_test, y_train, y_test = train_test_split(X, y, test_size=0.2, random_state=42)\n",
    "\n",
    "model = LogisticRegression(max_iter=1000)\n",
    "model.fit(X_train, y_train)\n",
    "\n",
    "y_pred = model.predict(X_test)\n",
    "print(classification_report(y_test, y_pred))"
   ]
  },
  {
   "cell_type": "markdown",
   "id": "792a49cb",
   "metadata": {},
   "source": [
    "### 💡 Conclusion du jour\n",
    "Aujourd’hui, j’ai entraîné un classifieur de texte.\n",
    "\n",
    "J’ai appris que la performance d’un modèle IA dépend plus de la qualité/quantité des données que de l’algorithme choisi.\n",
    "\n",
    "Avec un petit dataset, je peux tester le pipeline… mais pas prédire sérieusement."
   ]
  },
  {
   "cell_type": "markdown",
   "id": "7574cb3e",
   "metadata": {},
   "source": [
    "## ✅ Étapes du Jour 3 (Bis) – version enrichie (avec dataset Amazon)\n",
    "### 🎯 Objectif \n",
    "- Charger et nettoyer les avis\n",
    "- Créer une cible binaire (positif / négatif)\n",
    "- Vectoriser les textes\n",
    "- Entraîner un modèle IA\n",
    "- Évaluer et interpréter\n",
    "### ⚙️ 1. Chargement du dataset"
   ]
  },
  {
   "cell_type": "code",
   "execution_count": 51,
   "id": "663b2197",
   "metadata": {},
   "outputs": [
    {
     "name": "stdout",
     "output_type": "stream",
     "text": [
      "Index(['rating', 'review', 'translation'], dtype='object')\n"
     ]
    },
    {
     "data": {
      "text/html": [
       "<div>\n",
       "<style scoped>\n",
       "    .dataframe tbody tr th:only-of-type {\n",
       "        vertical-align: middle;\n",
       "    }\n",
       "\n",
       "    .dataframe tbody tr th {\n",
       "        vertical-align: top;\n",
       "    }\n",
       "\n",
       "    .dataframe thead th {\n",
       "        text-align: right;\n",
       "    }\n",
       "</style>\n",
       "<table border=\"1\" class=\"dataframe\">\n",
       "  <thead>\n",
       "    <tr style=\"text-align: right;\">\n",
       "      <th></th>\n",
       "      <th>rating</th>\n",
       "      <th>review</th>\n",
       "      <th>translation</th>\n",
       "    </tr>\n",
       "  </thead>\n",
       "  <tbody>\n",
       "    <tr>\n",
       "      <th>0</th>\n",
       "      <td>1</td>\n",
       "      <td>A déconseiller - Article n'a fonctionné qu'une...</td>\n",
       "      <td>A discouragement - article Na worked that once...</td>\n",
       "    </tr>\n",
       "    <tr>\n",
       "      <th>1</th>\n",
       "      <td>1</td>\n",
       "      <td>Si vous voulez être déçu achetez le produit ! ...</td>\n",
       "      <td>If you want to be disappointed buy the product...</td>\n",
       "    </tr>\n",
       "    <tr>\n",
       "      <th>2</th>\n",
       "      <td>1</td>\n",
       "      <td>Écran de mauvaise qualité, car il s'use en peu...</td>\n",
       "      <td>Screen of poor quality because it suses in a s...</td>\n",
       "    </tr>\n",
       "    <tr>\n",
       "      <th>3</th>\n",
       "      <td>1</td>\n",
       "      <td>Cet engin ne sert à rien les sons sont pourris...</td>\n",
       "      <td>This machine does not serve the sounds are rot...</td>\n",
       "    </tr>\n",
       "    <tr>\n",
       "      <th>4</th>\n",
       "      <td>1</td>\n",
       "      <td>Très beau produit mais la grue n'a pas fonctio...</td>\n",
       "      <td>Very nice product but the crane did not work v...</td>\n",
       "    </tr>\n",
       "  </tbody>\n",
       "</table>\n",
       "</div>"
      ],
      "text/plain": [
       "   rating                                             review  \\\n",
       "0       1  A déconseiller - Article n'a fonctionné qu'une...   \n",
       "1       1  Si vous voulez être déçu achetez le produit ! ...   \n",
       "2       1  Écran de mauvaise qualité, car il s'use en peu...   \n",
       "3       1  Cet engin ne sert à rien les sons sont pourris...   \n",
       "4       1  Très beau produit mais la grue n'a pas fonctio...   \n",
       "\n",
       "                                         translation  \n",
       "0  A discouragement - article Na worked that once...  \n",
       "1  If you want to be disappointed buy the product...  \n",
       "2  Screen of poor quality because it suses in a s...  \n",
       "3  This machine does not serve the sounds are rot...  \n",
       "4  Very nice product but the crane did not work v...  "
      ]
     },
     "execution_count": 51,
     "metadata": {},
     "output_type": "execute_result"
    }
   ],
   "source": [
    "df = pd.read_csv(\"french_to_english_product.csv\")  # adapte le nom si besoin\n",
    "print(df.columns)\n",
    "df.head()"
   ]
  },
  {
   "cell_type": "markdown",
   "id": "5ceea7df",
   "metadata": {},
   "source": [
    "**✅ Vérifie que tu as des colonnes du style :**\n",
    "- review_body (texte de l’avis)\n",
    "- star_rating (note client)\n",
    "### 🧼 2. Nettoyage + création de la cible"
   ]
  },
  {
   "cell_type": "code",
   "execution_count": 52,
   "id": "37d07a21",
   "metadata": {},
   "outputs": [
    {
     "name": "stderr",
     "output_type": "stream",
     "text": [
      "[nltk_data] Downloading package stopwords to\n",
      "[nltk_data]     C:\\Users\\Aurélie\\AppData\\Roaming\\nltk_data...\n",
      "[nltk_data]   Package stopwords is already up-to-date!\n"
     ]
    },
    {
     "data": {
      "text/html": [
       "<div>\n",
       "<style scoped>\n",
       "    .dataframe tbody tr th:only-of-type {\n",
       "        vertical-align: middle;\n",
       "    }\n",
       "\n",
       "    .dataframe tbody tr th {\n",
       "        vertical-align: top;\n",
       "    }\n",
       "\n",
       "    .dataframe thead th {\n",
       "        text-align: right;\n",
       "    }\n",
       "</style>\n",
       "<table border=\"1\" class=\"dataframe\">\n",
       "  <thead>\n",
       "    <tr style=\"text-align: right;\">\n",
       "      <th></th>\n",
       "      <th>review</th>\n",
       "      <th>commentaire_nettoye</th>\n",
       "      <th>rating</th>\n",
       "      <th>positif</th>\n",
       "    </tr>\n",
       "  </thead>\n",
       "  <tbody>\n",
       "    <tr>\n",
       "      <th>0</th>\n",
       "      <td>A déconseiller - Article n'a fonctionné qu'une...</td>\n",
       "      <td>a déconseiller article na fonctionné quune foi...</td>\n",
       "      <td>1</td>\n",
       "      <td>0</td>\n",
       "    </tr>\n",
       "    <tr>\n",
       "      <th>1</th>\n",
       "      <td>Si vous voulez être déçu achetez le produit ! ...</td>\n",
       "      <td>si voulez être déçu achetez produit bout 3 uti...</td>\n",
       "      <td>1</td>\n",
       "      <td>0</td>\n",
       "    </tr>\n",
       "    <tr>\n",
       "      <th>2</th>\n",
       "      <td>Écran de mauvaise qualité, car il s'use en peu...</td>\n",
       "      <td>écran mauvaise qualité car suse peu temps croc...</td>\n",
       "      <td>1</td>\n",
       "      <td>0</td>\n",
       "    </tr>\n",
       "    <tr>\n",
       "      <th>3</th>\n",
       "      <td>Cet engin ne sert à rien les sons sont pourris...</td>\n",
       "      <td>cet engin sert rien sons pourris songs simplis...</td>\n",
       "      <td>1</td>\n",
       "      <td>0</td>\n",
       "    </tr>\n",
       "    <tr>\n",
       "      <th>4</th>\n",
       "      <td>Très beau produit mais la grue n'a pas fonctio...</td>\n",
       "      <td>très beau produit grue na fonctionné très long...</td>\n",
       "      <td>1</td>\n",
       "      <td>0</td>\n",
       "    </tr>\n",
       "  </tbody>\n",
       "</table>\n",
       "</div>"
      ],
      "text/plain": [
       "                                              review  \\\n",
       "0  A déconseiller - Article n'a fonctionné qu'une...   \n",
       "1  Si vous voulez être déçu achetez le produit ! ...   \n",
       "2  Écran de mauvaise qualité, car il s'use en peu...   \n",
       "3  Cet engin ne sert à rien les sons sont pourris...   \n",
       "4  Très beau produit mais la grue n'a pas fonctio...   \n",
       "\n",
       "                                 commentaire_nettoye  rating  positif  \n",
       "0  a déconseiller article na fonctionné quune foi...       1        0  \n",
       "1  si voulez être déçu achetez produit bout 3 uti...       1        0  \n",
       "2  écran mauvaise qualité car suse peu temps croc...       1        0  \n",
       "3  cet engin sert rien sons pourris songs simplis...       1        0  \n",
       "4  très beau produit grue na fonctionné très long...       1        0  "
      ]
     },
     "execution_count": 52,
     "metadata": {},
     "output_type": "execute_result"
    }
   ],
   "source": [
    "import re\n",
    "from nltk.corpus import stopwords\n",
    "nltk.download('stopwords')\n",
    "\n",
    "stop_fr = set(stopwords.words('french'))\n",
    "\n",
    "def nettoyer_texte(texte):\n",
    "    texte = str(texte).lower()\n",
    "    texte = re.sub(r'[^\\w\\s]', '', texte)\n",
    "    return \" \".join([mot for mot in texte.split() if mot not in stop_fr])\n",
    "\n",
    "# Appliquer le nettoyage\n",
    "df[\"commentaire_nettoye\"] = df[\"review\"].apply(nettoyer_texte)\n",
    "\n",
    "# Cible binaire (avis positifs = 4 ou 5 étoiles)\n",
    "df[\"positif\"] = df[\"rating\"].apply(lambda x: 1 if x >= 4 else 0)\n",
    "\n",
    "df = df[[\"review\", \"commentaire_nettoye\", \"rating\", \"positif\"]]\n",
    "df.head()"
   ]
  },
  {
   "cell_type": "markdown",
   "id": "808654fe",
   "metadata": {},
   "source": [
    "### 🔢 3. Vectorisation TF-IDF"
   ]
  },
  {
   "cell_type": "code",
   "execution_count": 53,
   "id": "46f8cd51",
   "metadata": {},
   "outputs": [],
   "source": [
    "from sklearn.feature_extraction.text import TfidfVectorizer\n",
    "\n",
    "vect = TfidfVectorizer(max_features=5000)  # limité pour vitesse\n",
    "X = vect.fit_transform(df[\"commentaire_nettoye\"])\n",
    "y = df[\"positif\"]\n"
   ]
  },
  {
   "cell_type": "markdown",
   "id": "d6269f9b",
   "metadata": {},
   "source": [
    "### 🧠 4. Entraînement du modèle"
   ]
  },
  {
   "cell_type": "code",
   "execution_count": 54,
   "id": "cdeaec45",
   "metadata": {},
   "outputs": [
    {
     "name": "stdout",
     "output_type": "stream",
     "text": [
      "              precision    recall  f1-score   support\n",
      "\n",
      "           0       0.84      0.88      0.86     23925\n",
      "           1       0.81      0.76      0.78     16075\n",
      "\n",
      "    accuracy                           0.83     40000\n",
      "   macro avg       0.83      0.82      0.82     40000\n",
      "weighted avg       0.83      0.83      0.83     40000\n",
      "\n"
     ]
    }
   ],
   "source": [
    "from sklearn.linear_model import LogisticRegression\n",
    "from sklearn.model_selection import train_test_split\n",
    "from sklearn.metrics import classification_report\n",
    "\n",
    "X_train, X_test, y_train, y_test = train_test_split(X, y, test_size=0.2, random_state=42)\n",
    "\n",
    "model = LogisticRegression(max_iter=1000)\n",
    "model.fit(X_train, y_train)\n",
    "\n",
    "y_pred = model.predict(X_test)\n",
    "print(classification_report(y_test, y_pred))"
   ]
  },
  {
   "cell_type": "markdown",
   "id": "7aa9ef26",
   "metadata": {},
   "source": [
    "### ✍️ Conclusion du jour\n",
    "Aujourd’hui, j’ai entraîné un modèle NLP sur un vrai dataset Amazon.\n",
    "\n",
    "Avec 40 000 avis, j’ai vu que mon modèle de classification gagne en pertinence avec la taille des données.\n",
    "\n",
    "J’obtiens une précision de 83.00 %, ce qui est bon pour un premier modèle.\n",
    "\n",
    "Je comprends que l’amélioration passe par un meilleur nettoyage, une vectorisation plus riche ou un modèle plus puissant comme BERT.\n",
    "\n",
    "Je pourrais déjà en faire une vraie app d’analyse de sentiments."
   ]
  },
  {
   "cell_type": "markdown",
   "id": "f253c2e3",
   "metadata": {},
   "source": [
    "## 🧠 Jour 4 – Introduction à BERT pour le traitement du langage\n",
    "### 🎯 Objectif : Utiliser un modèle préentraîné ultra-puissant, capable de “comprendre” le langage comme un humain.\n",
    "### 🔍 Pourquoi BERT ?\n",
    "- BERT est un modèle de Deep Learning pré-entraîné par Google\n",
    "- Il est multilingue et “contextuel” : il comprend le sens des mots selon leur contexte\n",
    "- Il peut être réutilisé (transfer learning) pour tes propres données (comme Amazon)\n",
    "### 1️⃣ Imports et configuration"
   ]
  },
  {
   "cell_type": "code",
   "execution_count": 55,
   "id": "d3f67db6",
   "metadata": {},
   "outputs": [
    {
     "data": {
      "text/plain": [
       "'\\nimport pandas as pd\\nimport torch\\nfrom transformers import AutoTokenizer, AutoModelForSequenceClassification, Trainer, TrainingArguments\\nfrom sklearn.model_selection import train_test_split\\nfrom sklearn.metrics import classification_report\\nfrom torch.utils.data import Dataset\\n\\n# Pour la reproductibilité\\nimport random, numpy as np\\nSEED = 42\\nrandom.seed(SEED)\\nnp.random.seed(SEED)\\ntorch.manual_seed(SEED)\\n'"
      ]
     },
     "execution_count": 55,
     "metadata": {},
     "output_type": "execute_result"
    }
   ],
   "source": [
    "\"\"\"\n",
    "import pandas as pd\n",
    "import torch\n",
    "from transformers import AutoTokenizer, AutoModelForSequenceClassification, Trainer, TrainingArguments\n",
    "from sklearn.model_selection import train_test_split\n",
    "from sklearn.metrics import classification_report\n",
    "from torch.utils.data import Dataset\n",
    "\n",
    "# Pour la reproductibilité\n",
    "import random, numpy as np\n",
    "SEED = 42\n",
    "random.seed(SEED)\n",
    "np.random.seed(SEED)\n",
    "torch.manual_seed(SEED)\n",
    "\"\"\""
   ]
  },
  {
   "cell_type": "markdown",
   "id": "8b96aabf",
   "metadata": {},
   "source": [
    "### 2️⃣ Préparation des données"
   ]
  },
  {
   "cell_type": "code",
   "execution_count": 56,
   "id": "69acec70",
   "metadata": {},
   "outputs": [
    {
     "data": {
      "text/plain": [
       "'\\ndf = pd.read_csv(\"french_to_english_product.csv\")  # adapte le nom si besoin\\n\\n# Nettoyage rapide si tu veux\\ndf = df[[\"review\", \"rating\"]].dropna()\\ndf = df[df[\"review\"].notnull()]\\n\\n# Cible binaire (1 = positif, 0 = négatif)\\ndf[\"label\"] = df[\"rating\"].apply(lambda x: 1 if x >= 4 else 0)\\n\\n# Garde un échantillon (ex: 2000 lignes) pour aller vite :\\ndf = df.sample(2000, random_state=SEED)\\nprint(df.head())\\n'"
      ]
     },
     "execution_count": 56,
     "metadata": {},
     "output_type": "execute_result"
    }
   ],
   "source": [
    "\"\"\"\n",
    "df = pd.read_csv(\"french_to_english_product.csv\")  # adapte le nom si besoin\n",
    "\n",
    "# Nettoyage rapide si tu veux\n",
    "df = df[[\"review\", \"rating\"]].dropna()\n",
    "df = df[df[\"review\"].notnull()]\n",
    "\n",
    "# Cible binaire (1 = positif, 0 = négatif)\n",
    "df[\"label\"] = df[\"rating\"].apply(lambda x: 1 if x >= 4 else 0)\n",
    "\n",
    "# Garde un échantillon (ex: 2000 lignes) pour aller vite :\n",
    "df = df.sample(2000, random_state=SEED)\n",
    "print(df.head())\n",
    "\"\"\""
   ]
  },
  {
   "cell_type": "markdown",
   "id": "b8bee7ba",
   "metadata": {},
   "source": [
    "### 3️⃣ Découpage train/test"
   ]
  },
  {
   "cell_type": "code",
   "execution_count": 57,
   "id": "0b32e70f",
   "metadata": {},
   "outputs": [
    {
     "data": {
      "text/plain": [
       "'\\nX_train, X_test, y_train, y_test = train_test_split(\\n    df[\"review\"], df[\"label\"], test_size=0.2, random_state=SEED\\n)\\n'"
      ]
     },
     "execution_count": 57,
     "metadata": {},
     "output_type": "execute_result"
    }
   ],
   "source": [
    "\"\"\"\n",
    "X_train, X_test, y_train, y_test = train_test_split(\n",
    "    df[\"review\"], df[\"label\"], test_size=0.2, random_state=SEED\n",
    ")\n",
    "\"\"\""
   ]
  },
  {
   "cell_type": "markdown",
   "id": "fb980dd8",
   "metadata": {},
   "source": [
    "### 4️⃣ Encodage avec un tokenizer BERT"
   ]
  },
  {
   "cell_type": "code",
   "execution_count": 58,
   "id": "73ff6cb5",
   "metadata": {},
   "outputs": [
    {
     "data": {
      "text/plain": [
       "'\\ncheckpoint = \"camembert-base\"  # BERT français Hugging Face\\n\\ntokenizer = AutoTokenizer.from_pretrained(checkpoint)\\n\\nclass AmazonDataset(Dataset):\\n    def __init__(self, textes, labels):\\n        self.encodings = tokenizer(\\n            list(textes),\\n            truncation=True,\\n            padding=True,\\n            max_length=128\\n        )\\n        self.labels = list(labels)\\n\\n    def __getitem__(self, idx):\\n        item = {key: torch.tensor(val[idx]) for key, val in self.encodings.items()}\\n        item[\"labels\"] = torch.tensor(self.labels[idx])\\n        return item\\n\\n    def __len__(self):\\n        return len(self.labels)\\n\\ntrain_dataset = AmazonDataset(X_train, y_train)\\ntest_dataset  = AmazonDataset(X_test, y_test)\\n'"
      ]
     },
     "execution_count": 58,
     "metadata": {},
     "output_type": "execute_result"
    }
   ],
   "source": [
    "\"\"\"\n",
    "checkpoint = \"camembert-base\"  # BERT français Hugging Face\n",
    "\n",
    "tokenizer = AutoTokenizer.from_pretrained(checkpoint)\n",
    "\n",
    "class AmazonDataset(Dataset):\n",
    "    def __init__(self, textes, labels):\n",
    "        self.encodings = tokenizer(\n",
    "            list(textes),\n",
    "            truncation=True,\n",
    "            padding=True,\n",
    "            max_length=128\n",
    "        )\n",
    "        self.labels = list(labels)\n",
    "\n",
    "    def __getitem__(self, idx):\n",
    "        item = {key: torch.tensor(val[idx]) for key, val in self.encodings.items()}\n",
    "        item[\"labels\"] = torch.tensor(self.labels[idx])\n",
    "        return item\n",
    "\n",
    "    def __len__(self):\n",
    "        return len(self.labels)\n",
    "\n",
    "train_dataset = AmazonDataset(X_train, y_train)\n",
    "test_dataset  = AmazonDataset(X_test, y_test)\n",
    "\"\"\""
   ]
  },
  {
   "cell_type": "markdown",
   "id": "c99a74df",
   "metadata": {},
   "source": [
    "### 5️⃣ Chargement du modèle BERT"
   ]
  },
  {
   "cell_type": "code",
   "execution_count": 59,
   "id": "f37c6151",
   "metadata": {},
   "outputs": [
    {
     "data": {
      "text/plain": [
       "'\\nmodel = AutoModelForSequenceClassification.from_pretrained(checkpoint, num_labels=2)\\n'"
      ]
     },
     "execution_count": 59,
     "metadata": {},
     "output_type": "execute_result"
    }
   ],
   "source": [
    "\"\"\"\n",
    "model = AutoModelForSequenceClassification.from_pretrained(checkpoint, num_labels=2)\n",
    "\"\"\""
   ]
  },
  {
   "cell_type": "markdown",
   "id": "e4797165",
   "metadata": {},
   "source": [
    "### 6️⃣ Entraînement rapide avec Trainer (facultatif : 1-2 epochs pour tester)"
   ]
  },
  {
   "cell_type": "code",
   "execution_count": 60,
   "id": "1d816082",
   "metadata": {},
   "outputs": [
    {
     "data": {
      "text/plain": [
       "'\\nfrom transformers import Trainer, TrainingArguments\\n\\ntraining_args = TrainingArguments(\\n    output_dir=\"./results\",\\n    num_train_epochs=2,\\n    per_device_train_batch_size=8,\\n    per_device_eval_batch_size=8,\\n    evaluation_strategy=\"epoch\",\\n    logging_strategy=\"epoch\",\\n    save_strategy=\"no\",\\n    seed=42\\n)\\n\\ntrainer = Trainer(\\n    model=model,\\n    args=training_args,\\n    train_dataset=train_dataset,\\n    eval_dataset=test_dataset\\n)\\n\\ntrainer.train()\\n'"
      ]
     },
     "execution_count": 60,
     "metadata": {},
     "output_type": "execute_result"
    }
   ],
   "source": [
    "\"\"\"\n",
    "from transformers import Trainer, TrainingArguments\n",
    "\n",
    "training_args = TrainingArguments(\n",
    "    output_dir=\"./results\",\n",
    "    num_train_epochs=2,\n",
    "    per_device_train_batch_size=8,\n",
    "    per_device_eval_batch_size=8,\n",
    "    evaluation_strategy=\"epoch\",\n",
    "    logging_strategy=\"epoch\",\n",
    "    save_strategy=\"no\",\n",
    "    seed=42\n",
    ")\n",
    "\n",
    "trainer = Trainer(\n",
    "    model=model,\n",
    "    args=training_args,\n",
    "    train_dataset=train_dataset,\n",
    "    eval_dataset=test_dataset\n",
    ")\n",
    "\n",
    "trainer.train()\n",
    "\"\"\""
   ]
  },
  {
   "cell_type": "markdown",
   "id": "19b03473",
   "metadata": {},
   "source": [
    "### 7️⃣ Évaluation du modèle"
   ]
  },
  {
   "cell_type": "code",
   "execution_count": 73,
   "id": "0ede1a54",
   "metadata": {},
   "outputs": [
    {
     "data": {
      "text/plain": [
       "'\\ny_pred = trainer.predict(test_dataset).predictions.argmax(axis=1)\\nprint(classification_report(y_test, y_pred))\\n'"
      ]
     },
     "execution_count": 73,
     "metadata": {},
     "output_type": "execute_result"
    }
   ],
   "source": [
    "\"\"\"\n",
    "y_pred = trainer.predict(test_dataset).predictions.argmax(axis=1)\n",
    "print(classification_report(y_test, y_pred))\n",
    "\"\"\""
   ]
  },
  {
   "cell_type": "markdown",
   "id": "99c8912d",
   "metadata": {},
   "source": [
    "### 💬 Conclusion du jour\n",
    "Aujourd’hui, j’ai tenté de lancer BERT localement.\n",
    "\n",
    "Mais parfois, l’environnement technique bloque l’apprentissage.\n",
    "\n",
    "J’ai appris que la vraie IA, c’est aussi savoir pivoter intelligemment.\n",
    "\n",
    "Je peux progresser sans bloquer sur un modèle précis. L’important, c’est de construire, tester, et comprendre ce qu’on déploie."
   ]
  },
  {
   "cell_type": "markdown",
   "id": "4b0b69da",
   "metadata": {},
   "source": [
    "## 📅 Jour 5 — Créer une App IA avec Streamlit pour ton modèle NLP\n",
    "### 🎯 Objectif du jour\n",
    "Construire une interface Streamlit simple qui prend un avis, l’analyse, et affiche s’il est positif ou négatif.\n",
    "- Charger ton modèle NLP (.pkl)\n",
    "- Créer une interface texte → prédiction\n",
    "- Ajouter des messages stylés et couleurs\n",
    "- (optionnel) Voir la proba ou l'explication\n",
    "### ✅ 1. Sauvegarde de ton modèle (.pkl)"
   ]
  },
  {
   "cell_type": "code",
   "execution_count": 74,
   "id": "8b67de38",
   "metadata": {},
   "outputs": [
    {
     "data": {
      "text/plain": [
       "['data/tfidf_vectorizer.pkl']"
      ]
     },
     "execution_count": 74,
     "metadata": {},
     "output_type": "execute_result"
    }
   ],
   "source": [
    "import joblib\n",
    "\n",
    "# Sauvegarde du modèle\n",
    "joblib.dump(model, \"data/sentiment_model.pkl\")\n",
    "\n",
    "# Sauvegarde du vectoriseur TF-IDF\n",
    "joblib.dump(vect, \"data/tfidf_vectorizer.pkl\")\n"
   ]
  },
  {
   "cell_type": "markdown",
   "id": "373720a3",
   "metadata": {},
   "source": [
    "## 🔍 JOUR 6 – “Ce que l’IA voit dans un texte”\n",
    "### 🎯 Objectif du jour\n",
    "- Visualiser les mots sur lesquels l’IA se concentre quand elle prédit un avis positif ou négatif.\n",
    "- Comprendre le concept d’attention et le rôle des tokens dans un modèle de type Transformer.\n",
    "\n",
    "### 📚 Ce que tu vas utiliser :\n",
    "- CamemBERT (BERT français)\n",
    "- Le modèle transformers (Hugging Face)\n",
    "- Une phrase à tester (tu peux écrire ce que tu veux)\n",
    "- Une visualisation qui met en couleur les mots les plus importants"
   ]
  },
  {
   "cell_type": "code",
   "execution_count": 63,
   "id": "7818108f",
   "metadata": {},
   "outputs": [],
   "source": [
    "import pandas as pd\n",
    "import numpy as np\n",
    "import matplotlib.pyplot as plt"
   ]
  },
  {
   "cell_type": "code",
   "execution_count": 64,
   "id": "9055e99c",
   "metadata": {},
   "outputs": [],
   "source": [
    "# Phrase test\n",
    "texte = \"J'ai adoré ce produit, il est fantastique et très utile vraiment\"\n",
    "\n",
    "# Simuler des poids d'attention (ex : TF-IDF, importance...)\n",
    "mots = texte.lower().replace(\",\", \"\").split()\n",
    "poids = [0.2, 0.1, 0.9, 0.6, 0.1, 0.8, 0.7, 0.75, 0.3, 0.2, 0.5]"
   ]
  },
  {
   "cell_type": "code",
   "execution_count": 65,
   "id": "2935ccba",
   "metadata": {},
   "outputs": [],
   "source": [
    "# DataFrame\n",
    "df = pd.DataFrame({\"mot\": mots, \"importance\": poids})"
   ]
  },
  {
   "cell_type": "code",
   "execution_count": 66,
   "id": "f87849c7",
   "metadata": {},
   "outputs": [
    {
     "data": {
      "image/png": "[encoded data removed]",
      "text/plain": [
       "<Figure size 1000x200 with 1 Axes>"
      ]
     },
     "metadata": {},
     "output_type": "display_data"
    }
   ],
   "source": [
    "# Affichage avec couleurs\n",
    "plt.figure(figsize=(10, 2))\n",
    "plt.bar(df[\"mot\"], df[\"importance\"], color=\"skyblue\")\n",
    "plt.title(\"Visualisation simplifiée de l'attention sur les mots\")\n",
    "plt.ylim(0, 1.2)\n",
    "plt.xticks(rotation=45)\n",
    "plt.tight_layout()\n",
    "plt.show()\n",
    "\n",
    "# Tu peux changer les phrases, tester avec une vraie pondération TF-IDF, etc."
   ]
  },
  {
   "cell_type": "markdown",
   "id": "61667433",
   "metadata": {},
   "source": [
    "### 🔎 Ce que ton graphe  dit\n",
    "- 🔵 Les mots comme \"ce\", \"est\", \"et\" ou \"fantastique\" ont une attention forte → ils sont perçus comme structurants dans la phrase.\n",
    "- 🔵 Les mots comme \"j’ai\", \"il\", \"très\" ont une attention plus faible → moins décisifs.\n",
    "\n",
    "#### 💡 En NLP, comprendre où l’IA regarde permet de :\n",
    "- ⚖️ Analyser la transparence du modèle\n",
    "- 💬 Rendre l’IA plus interprétable\n",
    "- 🔍 Identifier les biais ou erreurs possibles"
   ]
  }
 ],
 "metadata": {
  "kernelspec": {
   "display_name": "Python 3",
   "language": "python",
   "name": "python3"
  },
  "language_info": {
   "codemirror_mode": {
    "name": "ipython",
    "version": 3
   },
   "file_extension": ".py",
   "mimetype": "text/x-python",
   "name": "python",
   "nbconvert_exporter": "python",
   "pygments_lexer": "ipython3",
   "version": "3.10.11"
  }
 },
 "nbformat": 4,
 "nbformat_minor": 5
}
